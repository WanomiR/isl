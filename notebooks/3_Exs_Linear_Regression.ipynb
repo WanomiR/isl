{
 "cells": [
  {
   "cell_type": "markdown",
   "source": [
    "# Exercises: Linear Regression"
   ],
   "metadata": {
    "collapsed": false
   },
   "id": "1e1faf9814b5aecf"
  },
  {
   "cell_type": "markdown",
   "source": [
    "## Importing packages"
   ],
   "metadata": {
    "collapsed": false
   },
   "id": "1f3d3ec88ce00968"
  },
  {
   "cell_type": "code",
   "execution_count": 1,
   "outputs": [],
   "source": [
    "import statsmodels.api as sm\n",
    "from ISLP import load_data\n",
    "from ISLP.models import ModelSpec as MS, summarize, poly"
   ],
   "metadata": {
    "collapsed": false,
    "ExecuteTime": {
     "end_time": "2023-11-03T03:31:23.460639Z",
     "start_time": "2023-11-03T03:31:22.767132Z"
    }
   },
   "id": "16616a39fe9269"
  },
  {
   "cell_type": "markdown",
   "source": [
    "## Simple Linear Regression"
   ],
   "metadata": {
    "collapsed": false
   },
   "id": "34ad34fa850a0d6f"
  },
  {
   "cell_type": "code",
   "execution_count": 2,
   "outputs": [
    {
     "data": {
      "text/plain": "Index(['mpg', 'cylinders', 'displacement', 'horsepower', 'weight',\n       'acceleration', 'year', 'origin', 'name'],\n      dtype='object')"
     },
     "execution_count": 2,
     "metadata": {},
     "output_type": "execute_result"
    }
   ],
   "source": [
    "Auto = load_data(\"Auto\")\n",
    "Auto.columns"
   ],
   "metadata": {
    "collapsed": false,
    "ExecuteTime": {
     "end_time": "2023-11-03T03:31:23.493359Z",
     "start_time": "2023-11-03T03:31:23.461121Z"
    }
   },
   "id": "cb8fd4d444585baa"
  },
  {
   "cell_type": "code",
   "execution_count": 3,
   "outputs": [
    {
     "data": {
      "text/plain": "               coef  std err       t  P>|t|\nintercept   39.9359    0.717  55.660    0.0\nhorsepower  -0.1578    0.006 -24.489    0.0",
      "text/html": "<div>\n<style scoped>\n    .dataframe tbody tr th:only-of-type {\n        vertical-align: middle;\n    }\n\n    .dataframe tbody tr th {\n        vertical-align: top;\n    }\n\n    .dataframe thead th {\n        text-align: right;\n    }\n</style>\n<table border=\"1\" class=\"dataframe\">\n  <thead>\n    <tr style=\"text-align: right;\">\n      <th></th>\n      <th>coef</th>\n      <th>std err</th>\n      <th>t</th>\n      <th>P&gt;|t|</th>\n    </tr>\n  </thead>\n  <tbody>\n    <tr>\n      <th>intercept</th>\n      <td>39.9359</td>\n      <td>0.717</td>\n      <td>55.660</td>\n      <td>0.0</td>\n    </tr>\n    <tr>\n      <th>horsepower</th>\n      <td>-0.1578</td>\n      <td>0.006</td>\n      <td>-24.489</td>\n      <td>0.0</td>\n    </tr>\n  </tbody>\n</table>\n</div>"
     },
     "execution_count": 3,
     "metadata": {},
     "output_type": "execute_result"
    }
   ],
   "source": [
    "y = Auto[\"mpg\"]\n",
    "X = MS([\"horsepower\"]).fit_transform(Auto)\n",
    "\n",
    "model = sm.OLS(y, X)\n",
    "results = model.fit()\n",
    "\n",
    "summarize(results)"
   ],
   "metadata": {
    "collapsed": false,
    "ExecuteTime": {
     "end_time": "2023-11-03T03:31:23.535880Z",
     "start_time": "2023-11-03T03:31:23.470814Z"
    }
   },
   "id": "391400ba1ffc0d60"
  },
  {
   "cell_type": "code",
   "execution_count": 3,
   "outputs": [],
   "source": [],
   "metadata": {
    "collapsed": false,
    "ExecuteTime": {
     "end_time": "2023-11-03T03:31:23.536407Z",
     "start_time": "2023-11-03T03:31:23.522271Z"
    }
   },
   "id": "6990dd2badee59a0"
  }
 ],
 "metadata": {
  "kernelspec": {
   "display_name": "Python 3",
   "language": "python",
   "name": "python3"
  },
  "language_info": {
   "codemirror_mode": {
    "name": "ipython",
    "version": 2
   },
   "file_extension": ".py",
   "mimetype": "text/x-python",
   "name": "python",
   "nbconvert_exporter": "python",
   "pygments_lexer": "ipython2",
   "version": "2.7.6"
  }
 },
 "nbformat": 4,
 "nbformat_minor": 5
}
