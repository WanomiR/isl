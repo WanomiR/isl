{
 "cells": [
  {
   "cell_type": "code",
   "execution_count": null,
   "id": "f50bfc2f-2e3b-4aac-b4a3-c53d31df74c2",
   "metadata": {},
   "outputs": [],
   "source": [
    "import numpy as np"
   ]
  },
  {
   "cell_type": "markdown",
   "id": "8dc3f4d1-863b-4adb-8267-f4fd136f525d",
   "metadata": {},
   "source": [
    "### Indexing and slicing"
   ]
  },
  {
   "cell_type": "code",
   "execution_count": null,
   "id": "d28cd76c-a4a2-44bb-abbe-d627ab21c3a1",
   "metadata": {},
   "outputs": [],
   "source": [
    "A = np.array(np.arange(16)).reshape((4, 4))\n",
    "A"
   ]
  },
  {
   "cell_type": "code",
   "execution_count": null,
   "id": "d42ccbfd-c12f-4723-b674-8281b065b7eb",
   "metadata": {},
   "outputs": [],
   "source": [
    "# select one value\n",
    "A[2, 1]"
   ]
  },
  {
   "cell_type": "code",
   "execution_count": null,
   "id": "cd37341b-d60b-4d6d-bde0-93103b7b5fcd",
   "metadata": {},
   "outputs": [],
   "source": [
    "# select several rows\n",
    "A[[2, 3]]"
   ]
  },
  {
   "cell_type": "code",
   "execution_count": null,
   "id": "ec35f8d3-6dc7-43bf-b7b2-fb436e7bbc25",
   "metadata": {},
   "outputs": [],
   "source": [
    "# select several columns\n",
    "A[:, [1, 2]]"
   ]
  },
  {
   "cell_type": "code",
   "execution_count": null,
   "id": "619c09ea-2c0a-4388-a3e2-50afe2187cd8",
   "metadata": {},
   "outputs": [],
   "source": [
    "# fancy indexing\n",
    "A[[0, 1], [-1, 0]]"
   ]
  },
  {
   "cell_type": "code",
   "execution_count": null,
   "id": "1f98fefb-318b-44cb-9c7c-bb48db78a1e4",
   "metadata": {},
   "outputs": [],
   "source": [
    "# select submatrix\n",
    "A[[0, 2]][:, [0, 2]]"
   ]
  },
  {
   "cell_type": "code",
   "execution_count": null,
   "id": "42d9403b-ac77-4a58-948a-7d1a0b0e3e52",
   "metadata": {},
   "outputs": [],
   "source": [
    "# do the same with `mesh` object\n",
    "idx = np.ix_([0, 2], [0, 2])\n",
    "A[idx]"
   ]
  },
  {
   "cell_type": "code",
   "execution_count": null,
   "id": "fca696f5-5cab-4576-84fb-3986d07570bd",
   "metadata": {},
   "outputs": [],
   "source": [
    "# or with slices\n",
    "A[0:3:2, 0:3:2]"
   ]
  },
  {
   "cell_type": "markdown",
   "id": "29ae18ca-909d-41be-82a8-27e4bf4c0fe7",
   "metadata": {},
   "source": [
    "### Boolean indexing"
   ]
  },
  {
   "cell_type": "code",
   "execution_count": null,
   "id": "3f0a4de5-5497-4ac5-84e4-81fcb7609787",
   "metadata": {},
   "outputs": [],
   "source": [
    "keep_rows = np.zeros_like(A[0], dtype=bool)\n",
    "keep_rows"
   ]
  },
  {
   "cell_type": "code",
   "execution_count": null,
   "id": "ea35a523-8ace-44ef-a0bd-5a432bc743fc",
   "metadata": {},
   "outputs": [],
   "source": [
    "keep_rows[[1, 3]] = True\n",
    "keep_rows"
   ]
  },
  {
   "cell_type": "code",
   "execution_count": null,
   "id": "1a6932a8-fe61-4f63-99d1-36b33f7d65a7",
   "metadata": {},
   "outputs": [],
   "source": [
    "np.all(keep_rows == np.array([0, 1, 0, 1]))"
   ]
  },
  {
   "cell_type": "code",
   "execution_count": null,
   "id": "4d8e695c-7af9-441e-bb68-1f275310c297",
   "metadata": {},
   "outputs": [],
   "source": [
    "A[keep_rows]"
   ]
  },
  {
   "cell_type": "code",
   "execution_count": null,
   "id": "4c12c3a3-4aea-4b94-b9e9-fa353e8b8096",
   "metadata": {},
   "outputs": [],
   "source": [
    "keep_cols = np.zeros_like(A[:, 0], dtype=bool)\n",
    "keep_cols[[0, 2, 3]] = True\n",
    "\n",
    "idx_bool = np.ix_(keep_rows, keep_cols)\n",
    "A[idx_bool]"
   ]
  }
 ],
 "metadata": {
  "kernelspec": {
   "display_name": "Python 3.11 (ISL)",
   "language": "python",
   "name": "isl"
  },
  "language_info": {
   "codemirror_mode": {
    "name": "ipython",
    "version": 3
   },
   "file_extension": ".py",
   "mimetype": "text/x-python",
   "name": "python",
   "nbconvert_exporter": "python",
   "pygments_lexer": "ipython3",
   "version": "3.11.6"
  }
 },
 "nbformat": 4,
 "nbformat_minor": 5
}
